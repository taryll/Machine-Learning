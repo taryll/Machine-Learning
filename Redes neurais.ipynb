{
 "cells": [
  {
   "cell_type": "code",
   "execution_count": 2,
   "metadata": {},
   "outputs": [],
   "source": [
    "import numpy as np"
   ]
  },
  {
   "cell_type": "code",
   "execution_count": 45,
   "metadata": {},
   "outputs": [],
   "source": [
    "class NeuralNetwork():\n",
    "    \n",
    "    def __init__(self):\n",
    "        # seeding for random\n",
    "        np.random.seed(1)\n",
    "        \n",
    "        #converting weights to a 3 by 1 matrix with values from -1 to 1 and mean of 0\n",
    "        self.synaptic_weights = 2 * np.random.random((3, 1)) - 1\n",
    "\n",
    "    def sigmoid(self, x):\n",
    "        #applying the sigmoid function\n",
    "        return 1 / (1 + np.exp(-x))\n",
    "\n",
    "    def sigmoid_derivative(self, x):\n",
    "        #computing derivative to the Sigmoid function\n",
    "        return x * (1 - x)\n",
    "\n",
    "    def train(self, training_inputs, training_outputs, training_iterations):\n",
    "        \n",
    "        #training the model to make accurate predictions while adjusting weights continually\n",
    "        for iteration in range(training_iterations):\n",
    "            #siphon the training data via  the neuron\n",
    "            output = self.think(training_inputs)\n",
    "\n",
    "            #computing error rate for back-propagation\n",
    "            error = training_outputs - output\n",
    "            \n",
    "            #performing weight adjustments\n",
    "            adjustments = np.dot(training_inputs.T, error * self.sigmoid_derivative(output))\n",
    "\n",
    "            self.synaptic_weights += adjustments\n",
    "\n",
    "    def think(self, inputs):\n",
    "        #passing the inputs via the neuron to get output   \n",
    "        #converting values to floats\n",
    "        \n",
    "        inputs = inputs.astype(float)\n",
    "        output = self.sigmoid(np.dot(inputs, self.synaptic_weights))\n",
    "        return output\n",
    "\n",
    "\n",
    "# if __name__ == \"__main__\":\n"
   ]
  },
  {
   "cell_type": "code",
   "execution_count": null,
   "metadata": {},
   "outputs": [
    {
     "name": "stdout",
     "output_type": "stream",
     "text": [
      "Beginning Randomly Generated Weights: \n",
      "[[-0.16595599]\n",
      " [ 0.44064899]\n",
      " [-0.99977125]]\n",
      "Ending Weights After Training: \n",
      "[[ 4.62128737]\n",
      " [-0.20338466]\n",
      " [-2.09325311]]\n"
     ]
    }
   ],
   "source": [
    "\n",
    "#initializing the neuron class\n",
    "neural_network = NeuralNetwork()\n",
    "\n",
    "print(\"Beginning Randomly Generated Weights: \")\n",
    "print(neural_network.synaptic_weights)\n",
    "\n",
    "#training data consisting of 4 examples--3 input values and 1 output\n",
    "training_inputs = np.array([[0,0,1],\n",
    "                            [1,1,1],\n",
    "                            [1,0,1],\n",
    "                            [0,1,1]])\n",
    "\n",
    "training_outputs = np.array([[0,1,1,0]]).T\n",
    "\n",
    "#training taking place\n",
    "neural_network.train(training_inputs, training_outputs, 100)\n",
    "\n",
    "print(\"Ending Weights After Training: \")\n",
    "print(neural_network.synaptic_weights)\n",
    "\n",
    "user_input_one = str(input(\"User Input One: \"))\n",
    "user_input_two = str(input(\"User Input Two: \"))\n",
    "user_input_three = str(input(\"User Input Three: \"))\n",
    "\n",
    "print(\"Considering New Situation: \", user_input_one, user_input_two, user_input_three)\n",
    "print(\"New Output data: \")\n",
    "print(neural_network.think(np.array([user_input_one, user_input_two, user_input_three])))\n",
    "print(\"Wow, we did it!\")"
   ]
  },
  {
   "cell_type": "markdown",
   "metadata": {},
   "source": [
    "Neste primeiro caso, meu forward vai ser o sigmoid, e o back, a diferença do sigmoid e y"
   ]
  },
  {
   "cell_type": "code",
   "execution_count": 41,
   "metadata": {},
   "outputs": [],
   "source": [
    "def sigmoid(x):\n",
    "    return 1/(1 + np.exp(-x))\n",
    "\n",
    "def sigmoid_derivative(x):\n",
    "    return x*(1-x)\n",
    "\n",
    "def cost_func(x, theta):\n",
    "    m = len(x)\n",
    "    # hypotesis\n",
    "    h = sigmoid(np.dot(theta, x))\n",
    "    J = sum(y*np.log(h) + (1 - y)*np.log(1 - h))\n",
    "    return 1/m * J\n",
    "\n",
    "def train(x, y, initial_weight):\n",
    "    a = sigmoid(np.dot(x, initial_weight))\n",
    "    \n",
    "    error = a - y\n",
    "    \n",
    "    adjust = np.dot(x.T, error*sigmoid_derivative(a))\n",
    "    \n",
    "    initial_weight += adjust\n",
    "    \n",
    "    return initial_weight"
   ]
  },
  {
   "cell_type": "code",
   "execution_count": 42,
   "metadata": {},
   "outputs": [],
   "source": [
    "np.random.seed(1)\n",
    "\n",
    "x = np.array([[0,0,1],\n",
    "              [1,1,1],\n",
    "              [1,0,1],\n",
    "              [0,1,1]])\n",
    "\n",
    "y = np.array([[0,1,1,0]]).T\n",
    "\n",
    "initial_weight = 2 * np.random.random((3, 1)) - 1\n",
    "\n",
    "for i in range(100):\n",
    "    a = sigmoid(np.dot(x, initial_weight))\n",
    "\n",
    "    error = y - a\n",
    "\n",
    "    adjust = np.dot(x.T, error*sigmoid_derivative(a))\n",
    "    \n",
    "    initial_weight += adjust\n"
   ]
  },
  {
   "cell_type": "code",
   "execution_count": 43,
   "metadata": {},
   "outputs": [
    {
     "data": {
      "text/plain": [
       "array([[ 4.62128737],\n",
       "       [-0.20338466],\n",
       "       [-2.09325311]])"
      ]
     },
     "execution_count": 43,
     "metadata": {},
     "output_type": "execute_result"
    }
   ],
   "source": [
    "initial_weight"
   ]
  }
 ],
 "metadata": {
  "kernelspec": {
   "display_name": "Python 3",
   "language": "python",
   "name": "python3"
  },
  "language_info": {
   "codemirror_mode": {
    "name": "ipython",
    "version": 3
   },
   "file_extension": ".py",
   "mimetype": "text/x-python",
   "name": "python",
   "nbconvert_exporter": "python",
   "pygments_lexer": "ipython3",
   "version": "3.6.2"
  }
 },
 "nbformat": 4,
 "nbformat_minor": 2
}
